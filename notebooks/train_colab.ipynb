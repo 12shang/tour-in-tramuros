{
  "nbformat": 4,
  "nbformat_minor": 0,
  "metadata": {
    "colab": {
      "provenance": []
    },
    "kernelspec": {
      "name": "python3",
      "display_name": "Python 3"
    },
    "language_info": {
      "name": "python"
    }
  },
  "cells": [
    {
      "cell_type": "code",
      "execution_count": 11,
      "metadata": {
        "colab": {
          "base_uri": "https://localhost:8080/"
        },
        "id": "0NAsUTJD2qq0",
        "outputId": "0c5a89da-fa79-4e87-f175-3d3efe567767"
      },
      "outputs": [
        {
          "output_type": "stream",
          "name": "stdout",
          "text": [
            "/bin/bash: line 1: nvidia-smi: command not found\n"
          ]
        }
      ],
      "source": [
        "!nvidia-smi"
      ]
    },
    {
      "cell_type": "code",
      "execution_count": 12,
      "metadata": {
        "colab": {
          "base_uri": "https://localhost:8080/"
        },
        "id": "tdSMcABDNKW-",
        "outputId": "674ea179-7df9-41a2-be52-526fef2975bc"
      },
      "outputs": [
        {
          "output_type": "stream",
          "name": "stderr",
          "text": [
            "Ultralytics YOLOv8.0.141 🚀 Python-3.10.6 torch-2.0.1+cu118 CPU (Intel Xeon 2.20GHz)\n",
            "Setup complete ✅ (2 CPUs, 12.7 GB RAM, 24.4/107.7 GB disk)\n"
          ]
        }
      ],
      "source": [
        "# Pip install method (recommended)\n",
        "\n",
        "!pip install ultralytics\n",
        "\n",
        "from IPython import display\n",
        "display.clear_output()\n",
        "\n",
        "import ultralytics\n",
        "ultralytics.checks()"
      ]
    },
    {
      "cell_type": "code",
      "source": [
        "from ultralytics import YOLO\n",
        "\n",
        "from IPython.display import display, Image"
      ],
      "metadata": {
        "id": "BkFWOZvC3QCc"
      },
      "execution_count": 13,
      "outputs": []
    },
    {
      "cell_type": "markdown",
      "source": [
        "# Training"
      ],
      "metadata": {
        "id": "nyMx5nCm3bHm"
      }
    },
    {
      "cell_type": "code",
      "execution_count": 14,
      "metadata": {
        "colab": {
          "base_uri": "https://localhost:8080/"
        },
        "id": "D2YkphuiaE7_",
        "outputId": "2d93cd9d-2984-4500-9dbd-eced95d4ee9b"
      },
      "outputs": [
        {
          "output_type": "stream",
          "name": "stdout",
          "text": [
            "Ultralytics YOLOv8.0.141 🚀 Python-3.10.6 torch-2.0.1+cu118 CPU (Intel Xeon 2.20GHz)\n",
            "\u001b[34m\u001b[1mengine/trainer: \u001b[0mtask=detect, mode=train, model=yolov8n.pt, data=/content/drive/MyDrive/intramuros/data.yaml, epochs=50, patience=50, batch=16, imgsz=640, save=True, save_period=-1, cache=False, device=None, workers=8, project=None, name=None, exist_ok=False, pretrained=True, optimizer=auto, verbose=True, seed=0, deterministic=True, single_cls=False, rect=False, cos_lr=False, close_mosaic=10, resume=False, amp=True, fraction=1.0, profile=False, overlap_mask=True, mask_ratio=4, dropout=0.0, val=True, split=val, save_json=False, save_hybrid=False, conf=None, iou=0.7, max_det=300, half=False, dnn=False, plots=True, source=None, show=False, save_txt=False, save_conf=False, save_crop=False, show_labels=True, show_conf=True, vid_stride=1, line_width=None, visualize=False, augment=False, agnostic_nms=False, classes=None, retina_masks=False, boxes=True, format=torchscript, keras=False, optimize=False, int8=False, dynamic=False, simplify=False, opset=None, workspace=4, nms=False, lr0=0.01, lrf=0.01, momentum=0.937, weight_decay=0.0005, warmup_epochs=3.0, warmup_momentum=0.8, warmup_bias_lr=0.1, box=7.5, cls=0.5, dfl=1.5, pose=12.0, kobj=1.0, label_smoothing=0.0, nbs=64, hsv_h=0.015, hsv_s=0.7, hsv_v=0.4, degrees=0.0, translate=0.1, scale=0.5, shear=0.0, perspective=0.0, flipud=0.0, fliplr=0.5, mosaic=1.0, mixup=0.0, copy_paste=0.0, cfg=None, tracker=botsort.yaml, save_dir=runs/detect/train2\n",
            "Overriding model.yaml nc=80 with nc=6\n",
            "\n",
            "                   from  n    params  module                                       arguments                     \n",
            "  0                  -1  1       464  ultralytics.nn.modules.conv.Conv             [3, 16, 3, 2]                 \n",
            "  1                  -1  1      4672  ultralytics.nn.modules.conv.Conv             [16, 32, 3, 2]                \n",
            "  2                  -1  1      7360  ultralytics.nn.modules.block.C2f             [32, 32, 1, True]             \n",
            "  3                  -1  1     18560  ultralytics.nn.modules.conv.Conv             [32, 64, 3, 2]                \n",
            "  4                  -1  2     49664  ultralytics.nn.modules.block.C2f             [64, 64, 2, True]             \n",
            "  5                  -1  1     73984  ultralytics.nn.modules.conv.Conv             [64, 128, 3, 2]               \n",
            "  6                  -1  2    197632  ultralytics.nn.modules.block.C2f             [128, 128, 2, True]           \n",
            "  7                  -1  1    295424  ultralytics.nn.modules.conv.Conv             [128, 256, 3, 2]              \n",
            "  8                  -1  1    460288  ultralytics.nn.modules.block.C2f             [256, 256, 1, True]           \n",
            "  9                  -1  1    164608  ultralytics.nn.modules.block.SPPF            [256, 256, 5]                 \n",
            " 10                  -1  1         0  torch.nn.modules.upsampling.Upsample         [None, 2, 'nearest']          \n",
            " 11             [-1, 6]  1         0  ultralytics.nn.modules.conv.Concat           [1]                           \n",
            " 12                  -1  1    148224  ultralytics.nn.modules.block.C2f             [384, 128, 1]                 \n",
            " 13                  -1  1         0  torch.nn.modules.upsampling.Upsample         [None, 2, 'nearest']          \n",
            " 14             [-1, 4]  1         0  ultralytics.nn.modules.conv.Concat           [1]                           \n",
            " 15                  -1  1     37248  ultralytics.nn.modules.block.C2f             [192, 64, 1]                  \n",
            " 16                  -1  1     36992  ultralytics.nn.modules.conv.Conv             [64, 64, 3, 2]                \n",
            " 17            [-1, 12]  1         0  ultralytics.nn.modules.conv.Concat           [1]                           \n",
            " 18                  -1  1    123648  ultralytics.nn.modules.block.C2f             [192, 128, 1]                 \n",
            " 19                  -1  1    147712  ultralytics.nn.modules.conv.Conv             [128, 128, 3, 2]              \n",
            " 20             [-1, 9]  1         0  ultralytics.nn.modules.conv.Concat           [1]                           \n",
            " 21                  -1  1    493056  ultralytics.nn.modules.block.C2f             [384, 256, 1]                 \n",
            " 22        [15, 18, 21]  1    752482  ultralytics.nn.modules.head.Detect           [6, [64, 128, 256]]           \n",
            "Model summary: 225 layers, 3012018 parameters, 3012002 gradients\n",
            "\n",
            "Transferred 319/355 items from pretrained weights\n",
            "\u001b[34m\u001b[1mTensorBoard: \u001b[0mStart with 'tensorboard --logdir runs/detect/train2', view at http://localhost:6006/\n",
            "\u001b[34m\u001b[1mtrain: \u001b[0mScanning /content/drive/MyDrive/intramuros/train/labels.cache... 326 images, 6 backgrounds, 0 corrupt: 100% 326/326 [00:00<?, ?it/s]\n",
            "WARNING ⚠️ Box and segment counts should be equal, but got len(segments) = 272, len(boxes) = 320. To resolve this only boxes will be used and all segments will be removed. To avoid this please supply either a detect or segment dataset, not a detect-segment mixed dataset.\n",
            "\u001b[34m\u001b[1malbumentations: \u001b[0mBlur(p=0.01, blur_limit=(3, 7)), MedianBlur(p=0.01, blur_limit=(3, 7)), ToGray(p=0.01), CLAHE(p=0.01, clip_limit=(1, 4.0), tile_grid_size=(8, 8))\n",
            "\u001b[34m\u001b[1mval: \u001b[0mScanning /content/drive/MyDrive/intramuros/valid/labels.cache... 40 images, 0 backgrounds, 0 corrupt: 100% 40/40 [00:00<?, ?it/s]\n",
            "WARNING ⚠️ Box and segment counts should be equal, but got len(segments) = 32, len(boxes) = 40. To resolve this only boxes will be used and all segments will be removed. To avoid this please supply either a detect or segment dataset, not a detect-segment mixed dataset.\n",
            "Plotting labels to runs/detect/train2/labels.jpg... \n",
            "\u001b[34m\u001b[1moptimizer:\u001b[0m AdamW(lr=0.001, momentum=0.9) with parameter groups 57 weight(decay=0.0), 64 weight(decay=0.0005), 63 bias(decay=0.0)\n",
            "Image sizes 640 train, 640 val\n",
            "Using 0 dataloader workers\n",
            "Logging results to \u001b[1mruns/detect/train2\u001b[0m\n",
            "Starting training for 50 epochs...\n",
            "\n",
            "      Epoch    GPU_mem   box_loss   cls_loss   dfl_loss  Instances       Size\n",
            "       1/50         0G     0.8822      3.423      1.495         18        640: 100% 21/21 [04:42<00:00, 13.45s/it]\n",
            "                 Class     Images  Instances      Box(P          R      mAP50  mAP50-95): 100% 2/2 [00:12<00:00,  6.11s/it]\n",
            "                   all         40         40    0.00341      0.929      0.241      0.142\n",
            "\n",
            "      Epoch    GPU_mem   box_loss   cls_loss   dfl_loss  Instances       Size\n",
            "       2/50         0G     0.6624      2.686      1.328         19        640: 100% 21/21 [04:30<00:00, 12.86s/it]\n",
            "                 Class     Images  Instances      Box(P          R      mAP50  mAP50-95): 100% 2/2 [00:12<00:00,  6.09s/it]\n",
            "                   all         40         40      0.541      0.296      0.377      0.213\n",
            "\n",
            "      Epoch    GPU_mem   box_loss   cls_loss   dfl_loss  Instances       Size\n",
            "       3/50         0G     0.7429      2.064      1.381         19        640: 100% 21/21 [04:30<00:00, 12.90s/it]\n",
            "                 Class     Images  Instances      Box(P          R      mAP50  mAP50-95): 100% 2/2 [00:12<00:00,  6.12s/it]\n",
            "                   all         40         40      0.676      0.579      0.518      0.261\n",
            "\n",
            "      Epoch    GPU_mem   box_loss   cls_loss   dfl_loss  Instances       Size\n",
            "       4/50         0G     0.7466      1.793      1.372         16        640: 100% 21/21 [04:31<00:00, 12.95s/it]\n",
            "                 Class     Images  Instances      Box(P          R      mAP50  mAP50-95): 100% 2/2 [00:12<00:00,  6.10s/it]\n",
            "                   all         40         40      0.564      0.537      0.517       0.29\n",
            "\n",
            "      Epoch    GPU_mem   box_loss   cls_loss   dfl_loss  Instances       Size\n",
            "       5/50         0G     0.7468      1.729      1.363         14        640: 100% 21/21 [04:29<00:00, 12.85s/it]\n",
            "                 Class     Images  Instances      Box(P          R      mAP50  mAP50-95): 100% 2/2 [00:12<00:00,  6.04s/it]\n",
            "                   all         40         40      0.819      0.625      0.766      0.504\n",
            "\n",
            "      Epoch    GPU_mem   box_loss   cls_loss   dfl_loss  Instances       Size\n",
            "       6/50         0G     0.7233      1.523      1.335         15        640: 100% 21/21 [04:29<00:00, 12.85s/it]\n",
            "                 Class     Images  Instances      Box(P          R      mAP50  mAP50-95): 100% 2/2 [00:13<00:00,  6.82s/it]\n",
            "                   all         40         40       0.65      0.663      0.762      0.457\n",
            "\n",
            "      Epoch    GPU_mem   box_loss   cls_loss   dfl_loss  Instances       Size\n",
            "       7/50         0G     0.7004      1.417      1.312         19        640: 100% 21/21 [04:25<00:00, 12.66s/it]\n",
            "                 Class     Images  Instances      Box(P          R      mAP50  mAP50-95): 100% 2/2 [00:11<00:00,  5.79s/it]\n",
            "                   all         40         40      0.594      0.613      0.551      0.353\n",
            "\n",
            "      Epoch    GPU_mem   box_loss   cls_loss   dfl_loss  Instances       Size\n",
            "       8/50         0G     0.6838      1.404      1.293         16        640: 100% 21/21 [04:29<00:00, 12.83s/it]\n",
            "                 Class     Images  Instances      Box(P          R      mAP50  mAP50-95): 100% 2/2 [00:11<00:00,  5.94s/it]\n",
            "                   all         40         40      0.682      0.786      0.815      0.536\n",
            "\n",
            "      Epoch    GPU_mem   box_loss   cls_loss   dfl_loss  Instances       Size\n",
            "       9/50         0G     0.6946      1.301      1.297         10        640: 100% 21/21 [04:28<00:00, 12.77s/it]\n",
            "                 Class     Images  Instances      Box(P          R      mAP50  mAP50-95): 100% 2/2 [00:11<00:00,  5.93s/it]\n",
            "                   all         40         40      0.811      0.798      0.892      0.644\n",
            "\n",
            "      Epoch    GPU_mem   box_loss   cls_loss   dfl_loss  Instances       Size\n",
            "      10/50         0G     0.6364      1.278      1.261         17        640: 100% 21/21 [04:38<00:00, 13.27s/it]\n",
            "                 Class     Images  Instances      Box(P          R      mAP50  mAP50-95): 100% 2/2 [00:11<00:00,  5.93s/it]\n",
            "                   all         40         40      0.699      0.768      0.831      0.601\n",
            "\n",
            "      Epoch    GPU_mem   box_loss   cls_loss   dfl_loss  Instances       Size\n",
            "      11/50         0G     0.6529      1.214       1.27         17        640: 100% 21/21 [04:32<00:00, 12.96s/it]\n",
            "                 Class     Images  Instances      Box(P          R      mAP50  mAP50-95): 100% 2/2 [00:12<00:00,  6.27s/it]\n",
            "                   all         40         40      0.715      0.665      0.721      0.529\n",
            "\n",
            "      Epoch    GPU_mem   box_loss   cls_loss   dfl_loss  Instances       Size\n",
            "      12/50         0G     0.6729      1.173      1.285         16        640: 100% 21/21 [04:31<00:00, 12.95s/it]\n",
            "                 Class     Images  Instances      Box(P          R      mAP50  mAP50-95): 100% 2/2 [00:12<00:00,  6.16s/it]\n",
            "                   all         40         40      0.798      0.788      0.867      0.591\n",
            "\n",
            "      Epoch    GPU_mem   box_loss   cls_loss   dfl_loss  Instances       Size\n",
            "      13/50         0G     0.6486      1.145      1.265         18        640: 100% 21/21 [04:31<00:00, 12.95s/it]\n",
            "                 Class     Images  Instances      Box(P          R      mAP50  mAP50-95): 100% 2/2 [00:12<00:00,  6.10s/it]\n",
            "                   all         40         40      0.712      0.774      0.855      0.585\n",
            "\n",
            "      Epoch    GPU_mem   box_loss   cls_loss   dfl_loss  Instances       Size\n",
            "      14/50         0G     0.6122      1.125      1.262         17        640: 100% 21/21 [04:30<00:00, 12.88s/it]\n",
            "                 Class     Images  Instances      Box(P          R      mAP50  mAP50-95): 100% 2/2 [00:12<00:00,  6.01s/it]\n",
            "                   all         40         40      0.973      0.885      0.959      0.589\n",
            "\n",
            "      Epoch    GPU_mem   box_loss   cls_loss   dfl_loss  Instances       Size\n",
            "      15/50         0G     0.6132      1.032      1.246         17        640: 100% 21/21 [04:31<00:00, 12.94s/it]\n",
            "                 Class     Images  Instances      Box(P          R      mAP50  mAP50-95): 100% 2/2 [00:12<00:00,  6.07s/it]\n",
            "                   all         40         40      0.772      0.795      0.854      0.651\n",
            "\n",
            "      Epoch    GPU_mem   box_loss   cls_loss   dfl_loss  Instances       Size\n",
            "      16/50         0G     0.5688      1.057      1.212         17        640: 100% 21/21 [04:32<00:00, 12.97s/it]\n",
            "                 Class     Images  Instances      Box(P          R      mAP50  mAP50-95): 100% 2/2 [00:12<00:00,  6.15s/it]\n",
            "                   all         40         40      0.806      0.793      0.854      0.702\n",
            "\n",
            "      Epoch    GPU_mem   box_loss   cls_loss   dfl_loss  Instances       Size\n",
            "      17/50         0G     0.5535      1.027      1.197         14        640: 100% 21/21 [04:30<00:00, 12.86s/it]\n",
            "                 Class     Images  Instances      Box(P          R      mAP50  mAP50-95): 100% 2/2 [00:12<00:00,  6.02s/it]\n",
            "                   all         40         40      0.892      0.902      0.897      0.681\n",
            "\n",
            "      Epoch    GPU_mem   box_loss   cls_loss   dfl_loss  Instances       Size\n",
            "      18/50         0G     0.5775     0.9382        1.2         14        640: 100% 21/21 [04:31<00:00, 12.95s/it]\n",
            "                 Class     Images  Instances      Box(P          R      mAP50  mAP50-95): 100% 2/2 [00:12<00:00,  6.38s/it]\n",
            "                   all         40         40       0.83      0.906      0.931      0.689\n",
            "\n",
            "      Epoch    GPU_mem   box_loss   cls_loss   dfl_loss  Instances       Size\n",
            "      19/50         0G     0.5891     0.9593       1.21         15        640: 100% 21/21 [04:38<00:00, 13.24s/it]\n",
            "                 Class     Images  Instances      Box(P          R      mAP50  mAP50-95): 100% 2/2 [00:12<00:00,  6.05s/it]\n",
            "                   all         40         40      0.924      0.893      0.948       0.73\n",
            "\n",
            "      Epoch    GPU_mem   box_loss   cls_loss   dfl_loss  Instances       Size\n",
            "      20/50         0G     0.5862     0.9379      1.228         13        640: 100% 21/21 [04:30<00:00, 12.86s/it]\n",
            "                 Class     Images  Instances      Box(P          R      mAP50  mAP50-95): 100% 2/2 [00:12<00:00,  6.03s/it]\n",
            "                   all         40         40      0.892      0.909      0.936      0.743\n",
            "\n",
            "      Epoch    GPU_mem   box_loss   cls_loss   dfl_loss  Instances       Size\n",
            "      21/50         0G     0.5411     0.8858      1.173         17        640: 100% 21/21 [04:34<00:00, 13.08s/it]\n",
            "                 Class     Images  Instances      Box(P          R      mAP50  mAP50-95): 100% 2/2 [00:12<00:00,  6.04s/it]\n",
            "                   all         40         40      0.942      0.918       0.96      0.752\n",
            "\n",
            "      Epoch    GPU_mem   box_loss   cls_loss   dfl_loss  Instances       Size\n",
            "      22/50         0G     0.5175      0.843      1.176         15        640: 100% 21/21 [04:29<00:00, 12.84s/it]\n",
            "                 Class     Images  Instances      Box(P          R      mAP50  mAP50-95): 100% 2/2 [00:11<00:00,  5.82s/it]\n",
            "                   all         40         40      0.909      0.934      0.944      0.729\n",
            "\n",
            "      Epoch    GPU_mem   box_loss   cls_loss   dfl_loss  Instances       Size\n",
            "      23/50         0G     0.5507     0.8638      1.168         16        640: 100% 21/21 [04:32<00:00, 13.00s/it]\n",
            "                 Class     Images  Instances      Box(P          R      mAP50  mAP50-95): 100% 2/2 [00:11<00:00,  5.95s/it]\n",
            "                   all         40         40      0.854      0.931      0.948       0.75\n",
            "\n",
            "      Epoch    GPU_mem   box_loss   cls_loss   dfl_loss  Instances       Size\n",
            "      24/50         0G      0.515     0.8373      1.164         18        640: 100% 21/21 [04:28<00:00, 12.81s/it]\n",
            "                 Class     Images  Instances      Box(P          R      mAP50  mAP50-95): 100% 2/2 [00:14<00:00,  7.21s/it]\n",
            "                   all         40         40      0.902      0.818      0.934      0.709\n",
            "\n",
            "      Epoch    GPU_mem   box_loss   cls_loss   dfl_loss  Instances       Size\n",
            "      25/50         0G     0.5227     0.7918      1.161         15        640: 100% 21/21 [04:29<00:00, 12.82s/it]\n",
            "                 Class     Images  Instances      Box(P          R      mAP50  mAP50-95): 100% 2/2 [00:11<00:00,  5.95s/it]\n",
            "                   all         40         40      0.928      0.972      0.966      0.746\n",
            "\n",
            "      Epoch    GPU_mem   box_loss   cls_loss   dfl_loss  Instances       Size\n",
            "      26/50         0G     0.4713     0.7392      1.127         14        640: 100% 21/21 [04:32<00:00, 12.98s/it]\n",
            "                 Class     Images  Instances      Box(P          R      mAP50  mAP50-95): 100% 2/2 [00:11<00:00,  5.81s/it]\n",
            "                   all         40         40      0.888      0.856      0.906      0.703\n",
            "\n",
            "      Epoch    GPU_mem   box_loss   cls_loss   dfl_loss  Instances       Size\n",
            "      27/50         0G     0.4964     0.7572      1.166         14        640: 100% 21/21 [04:32<00:00, 12.98s/it]\n",
            "                 Class     Images  Instances      Box(P          R      mAP50  mAP50-95): 100% 2/2 [00:11<00:00,  5.96s/it]\n",
            "                   all         40         40      0.918      0.911      0.964      0.752\n",
            "\n",
            "      Epoch    GPU_mem   box_loss   cls_loss   dfl_loss  Instances       Size\n",
            "      28/50         0G     0.5004     0.7324      1.155         17        640: 100% 21/21 [04:32<00:00, 12.96s/it]\n",
            "                 Class     Images  Instances      Box(P          R      mAP50  mAP50-95): 100% 2/2 [00:12<00:00,  6.02s/it]\n",
            "                   all         40         40      0.864      0.917      0.928      0.721\n",
            "\n",
            "      Epoch    GPU_mem   box_loss   cls_loss   dfl_loss  Instances       Size\n",
            "      29/50         0G     0.4895     0.6947      1.141         13        640: 100% 21/21 [04:30<00:00, 12.89s/it]\n",
            "                 Class     Images  Instances      Box(P          R      mAP50  mAP50-95): 100% 2/2 [00:12<00:00,  6.00s/it]\n",
            "                   all         40         40      0.882       0.97       0.97      0.778\n",
            "\n",
            "      Epoch    GPU_mem   box_loss   cls_loss   dfl_loss  Instances       Size\n",
            "      30/50         0G     0.4583     0.6659      1.109         14        640: 100% 21/21 [04:32<00:00, 12.99s/it]\n",
            "                 Class     Images  Instances      Box(P          R      mAP50  mAP50-95): 100% 2/2 [00:13<00:00,  6.89s/it]\n",
            "                   all         40         40      0.934       0.92      0.957      0.755\n",
            "\n",
            "      Epoch    GPU_mem   box_loss   cls_loss   dfl_loss  Instances       Size\n",
            "      31/50         0G     0.4556     0.6708      1.126         16        640: 100% 21/21 [04:29<00:00, 12.83s/it]\n",
            "                 Class     Images  Instances      Box(P          R      mAP50  mAP50-95): 100% 2/2 [00:11<00:00,  5.75s/it]\n",
            "                   all         40         40      0.899      0.925      0.934      0.738\n",
            "\n",
            "      Epoch    GPU_mem   box_loss   cls_loss   dfl_loss  Instances       Size\n",
            "      32/50         0G     0.4588     0.7009      1.123         19        640: 100% 21/21 [04:29<00:00, 12.81s/it]\n",
            "                 Class     Images  Instances      Box(P          R      mAP50  mAP50-95): 100% 2/2 [00:11<00:00,  5.87s/it]\n",
            "                   all         40         40      0.936      0.923      0.932      0.718\n",
            "\n",
            "      Epoch    GPU_mem   box_loss   cls_loss   dfl_loss  Instances       Size\n",
            "      33/50         0G     0.4478     0.6816      1.113         15        640: 100% 21/21 [04:32<00:00, 12.97s/it]\n",
            "                 Class     Images  Instances      Box(P          R      mAP50  mAP50-95): 100% 2/2 [00:11<00:00,  5.92s/it]\n",
            "                   all         40         40      0.951      0.883      0.939      0.737\n",
            "\n",
            "      Epoch    GPU_mem   box_loss   cls_loss   dfl_loss  Instances       Size\n",
            "      34/50         0G     0.4468     0.6345      1.108         19        640: 100% 21/21 [04:38<00:00, 13.28s/it]\n",
            "                 Class     Images  Instances      Box(P          R      mAP50  mAP50-95): 100% 2/2 [00:10<00:00,  5.16s/it]\n",
            "                   all         40         40      0.891      0.972      0.951      0.748\n",
            "\n",
            "      Epoch    GPU_mem   box_loss   cls_loss   dfl_loss  Instances       Size\n",
            "      35/50         0G     0.4376     0.6553      1.118         14        640: 100% 21/21 [04:34<00:00, 13.08s/it]\n",
            "                 Class     Images  Instances      Box(P          R      mAP50  mAP50-95): 100% 2/2 [00:11<00:00,  5.97s/it]\n",
            "                   all         40         40      0.911      0.938      0.939      0.734\n",
            "\n",
            "      Epoch    GPU_mem   box_loss   cls_loss   dfl_loss  Instances       Size\n",
            "      36/50         0G     0.4483     0.6682      1.108         18        640: 100% 21/21 [04:32<00:00, 12.98s/it]\n",
            "                 Class     Images  Instances      Box(P          R      mAP50  mAP50-95): 100% 2/2 [00:12<00:00,  6.19s/it]\n",
            "                   all         40         40       0.85      0.965      0.945      0.745\n",
            "\n",
            "      Epoch    GPU_mem   box_loss   cls_loss   dfl_loss  Instances       Size\n",
            "      37/50         0G     0.3954     0.6042      1.085         15        640: 100% 21/21 [04:32<00:00, 12.96s/it]\n",
            "                 Class     Images  Instances      Box(P          R      mAP50  mAP50-95): 100% 2/2 [00:11<00:00,  5.94s/it]\n",
            "                   all         40         40      0.923      0.942      0.953      0.763\n",
            "\n",
            "      Epoch    GPU_mem   box_loss   cls_loss   dfl_loss  Instances       Size\n",
            "      38/50         0G     0.4097      0.616      1.085         13        640: 100% 21/21 [04:31<00:00, 12.94s/it]\n",
            "                 Class     Images  Instances      Box(P          R      mAP50  mAP50-95): 100% 2/2 [00:11<00:00,  5.64s/it]\n",
            "                   all         40         40      0.835      0.924      0.939      0.758\n",
            "\n",
            "      Epoch    GPU_mem   box_loss   cls_loss   dfl_loss  Instances       Size\n",
            "      39/50         0G     0.4042     0.6027      1.081         18        640: 100% 21/21 [04:33<00:00, 13.03s/it]\n",
            "                 Class     Images  Instances      Box(P          R      mAP50  mAP50-95): 100% 2/2 [00:10<00:00,  5.44s/it]\n",
            "                   all         40         40      0.902      0.921       0.96      0.771\n",
            "\n",
            "      Epoch    GPU_mem   box_loss   cls_loss   dfl_loss  Instances       Size\n",
            "      40/50         0G     0.3834     0.5757       1.07         13        640: 100% 21/21 [04:31<00:00, 12.93s/it]\n",
            "                 Class     Images  Instances      Box(P          R      mAP50  mAP50-95): 100% 2/2 [00:11<00:00,  5.97s/it]\n",
            "                   all         40         40      0.926      0.941      0.949      0.774\n",
            "Closing dataloader mosaic\n",
            "\u001b[34m\u001b[1malbumentations: \u001b[0mBlur(p=0.01, blur_limit=(3, 7)), MedianBlur(p=0.01, blur_limit=(3, 7)), ToGray(p=0.01), CLAHE(p=0.01, clip_limit=(1, 4.0), tile_grid_size=(8, 8))\n",
            "\n",
            "      Epoch    GPU_mem   box_loss   cls_loss   dfl_loss  Instances       Size\n",
            "      41/50         0G     0.3486     0.7315       1.09          6        640: 100% 21/21 [04:32<00:00, 12.98s/it]\n",
            "                 Class     Images  Instances      Box(P          R      mAP50  mAP50-95): 100% 2/2 [00:11<00:00,  5.53s/it]\n",
            "                   all         40         40      0.939      0.929      0.932      0.747\n",
            "\n",
            "      Epoch    GPU_mem   box_loss   cls_loss   dfl_loss  Instances       Size\n",
            "      42/50         0G     0.3026     0.5937       1.08          6        640: 100% 21/21 [04:27<00:00, 12.74s/it]\n",
            "                 Class     Images  Instances      Box(P          R      mAP50  mAP50-95): 100% 2/2 [00:12<00:00,  6.31s/it]\n",
            "                   all         40         40      0.944      0.929      0.934      0.759\n",
            "\n",
            "      Epoch    GPU_mem   box_loss   cls_loss   dfl_loss  Instances       Size\n",
            "      43/50         0G     0.3127      0.587      1.068          6        640: 100% 21/21 [04:28<00:00, 12.76s/it]\n",
            "                 Class     Images  Instances      Box(P          R      mAP50  mAP50-95): 100% 2/2 [00:13<00:00,  6.97s/it]\n",
            "                   all         40         40      0.952      0.931      0.929      0.754\n",
            "\n",
            "      Epoch    GPU_mem   box_loss   cls_loss   dfl_loss  Instances       Size\n",
            "      44/50         0G     0.2891     0.5317      1.067          6        640: 100% 21/21 [04:26<00:00, 12.69s/it]\n",
            "                 Class     Images  Instances      Box(P          R      mAP50  mAP50-95): 100% 2/2 [00:11<00:00,  5.80s/it]\n",
            "                   all         40         40      0.944      0.955      0.951      0.775\n",
            "\n",
            "      Epoch    GPU_mem   box_loss   cls_loss   dfl_loss  Instances       Size\n",
            "      45/50         0G     0.2842     0.5181      1.058          6        640: 100% 21/21 [04:26<00:00, 12.67s/it]\n",
            "                 Class     Images  Instances      Box(P          R      mAP50  mAP50-95): 100% 2/2 [00:11<00:00,  5.88s/it]\n",
            "                   all         40         40      0.933      0.967      0.951      0.772\n",
            "\n",
            "      Epoch    GPU_mem   box_loss   cls_loss   dfl_loss  Instances       Size\n",
            "      46/50         0G     0.2557     0.5138      1.028          6        640: 100% 21/21 [04:29<00:00, 12.81s/it]\n",
            "                 Class     Images  Instances      Box(P          R      mAP50  mAP50-95): 100% 2/2 [00:12<00:00,  6.04s/it]\n",
            "                   all         40         40      0.953      0.955      0.948       0.76\n",
            "\n",
            "      Epoch    GPU_mem   box_loss   cls_loss   dfl_loss  Instances       Size\n",
            "      47/50         0G     0.2535      0.483      1.034          6        640: 100% 21/21 [04:29<00:00, 12.81s/it]\n",
            "                 Class     Images  Instances      Box(P          R      mAP50  mAP50-95): 100% 2/2 [00:11<00:00,  5.87s/it]\n",
            "                   all         40         40      0.949       0.96      0.948      0.758\n",
            "\n",
            "      Epoch    GPU_mem   box_loss   cls_loss   dfl_loss  Instances       Size\n",
            "      48/50         0G     0.2518     0.4721      1.039          6        640: 100% 21/21 [04:25<00:00, 12.66s/it]\n",
            "                 Class     Images  Instances      Box(P          R      mAP50  mAP50-95): 100% 2/2 [00:11<00:00,  5.71s/it]\n",
            "                   all         40         40       0.95      0.939      0.929      0.758\n",
            "\n",
            "      Epoch    GPU_mem   box_loss   cls_loss   dfl_loss  Instances       Size\n",
            "      49/50         0G     0.2705     0.4729      1.055          6        640: 100% 21/21 [04:29<00:00, 12.85s/it]\n",
            "                 Class     Images  Instances      Box(P          R      mAP50  mAP50-95): 100% 2/2 [00:11<00:00,  5.91s/it]\n",
            "                   all         40         40      0.949      0.927      0.931       0.77\n",
            "\n",
            "      Epoch    GPU_mem   box_loss   cls_loss   dfl_loss  Instances       Size\n",
            "      50/50         0G      0.258     0.4761      1.031          6        640: 100% 21/21 [04:29<00:00, 12.84s/it]\n",
            "                 Class     Images  Instances      Box(P          R      mAP50  mAP50-95): 100% 2/2 [00:12<00:00,  6.46s/it]\n",
            "                   all         40         40      0.945      0.928      0.939      0.773\n",
            "\n",
            "50 epochs completed in 3.943 hours.\n",
            "Optimizer stripped from runs/detect/train2/weights/last.pt, 6.2MB\n",
            "Optimizer stripped from runs/detect/train2/weights/best.pt, 6.2MB\n",
            "\n",
            "Validating runs/detect/train2/weights/best.pt...\n",
            "Ultralytics YOLOv8.0.141 🚀 Python-3.10.6 torch-2.0.1+cu118 CPU (Intel Xeon 2.20GHz)\n",
            "Model summary (fused): 168 layers, 3006818 parameters, 0 gradients\n",
            "                 Class     Images  Instances      Box(P          R      mAP50  mAP50-95): 100% 2/2 [00:11<00:00,  5.95s/it]\n",
            "                   all         40         40      0.882       0.97      0.971      0.778\n",
            "           Casa Manila         40          9          1      0.988      0.995      0.751\n",
            "         Fort Santiago         40          8      0.856          1      0.995      0.864\n",
            "King Charles IV Monument         40          7      0.869          1      0.924      0.502\n",
            "      Manila Cathedral         40          6      0.821          1      0.995      0.896\n",
            " Palacio de Gobernador         40          4      0.863          1      0.995       0.92\n",
            "    San Agustin Church         40          6      0.884      0.833      0.922      0.732\n",
            "Speed: 2.3ms preprocess, 277.4ms inference, 0.0ms loss, 1.8ms postprocess per image\n",
            "Results saved to \u001b[1mruns/detect/train2\u001b[0m\n"
          ]
        }
      ],
      "source": [
        "!yolo task=detect mode=train model=yolov8n.pt data='/content/drive/MyDrive/intramuros/data.yaml' epochs=50 imgsz=640 plots=True"
      ]
    },
    {
      "cell_type": "code",
      "source": [
        "!zip -r ./yolo.zip ./content/runs"
      ],
      "metadata": {
        "id": "wyW8SKZH5ktU",
        "colab": {
          "base_uri": "https://localhost:8080/"
        },
        "outputId": "6b110065-3931-4f1c-92c6-1671f08173ea"
      },
      "execution_count": 15,
      "outputs": [
        {
          "output_type": "stream",
          "name": "stdout",
          "text": [
            "\tzip warning: name not matched: ./content/runs\n",
            "\n",
            "zip error: Nothing to do! (try: zip -r ./yolo.zip . -i ./content/runs)\n"
          ]
        }
      ]
    },
    {
      "cell_type": "code",
      "source": [
        "import shutil\n",
        "\n",
        "# Path of the folder to be zipped\n",
        "folder_path = \"/content/runs\"\n",
        "\n",
        "# Path of the zip file to be created\n",
        "zip_file_path = \"/content/yolo.zip\"\n",
        "\n",
        "# Create the zip file\n",
        "shutil.make_archive(zip_file_path[:-4], 'zip', folder_path)"
      ],
      "metadata": {
        "colab": {
          "base_uri": "https://localhost:8080/",
          "height": 35
        },
        "id": "a-731RvqdrUu",
        "outputId": "605a20d2-0647-43e1-a585-4e225c3e2ae5"
      },
      "execution_count": 16,
      "outputs": [
        {
          "output_type": "execute_result",
          "data": {
            "text/plain": [
              "'/content/yolo.zip'"
            ],
            "application/vnd.google.colaboratory.intrinsic+json": {
              "type": "string"
            }
          },
          "metadata": {},
          "execution_count": 16
        }
      ]
    },
    {
      "cell_type": "code",
      "source": [
        "!zip -r /content/drive/MyDrive/yolo.zip /content/runs"
      ],
      "metadata": {
        "colab": {
          "base_uri": "https://localhost:8080/"
        },
        "id": "bs98a47weQKw",
        "outputId": "32f5f010-318d-4cb7-e7d1-9303b027f1cd"
      },
      "execution_count": 17,
      "outputs": [
        {
          "output_type": "stream",
          "name": "stdout",
          "text": [
            "updating: content/runs/ (stored 0%)\n",
            "updating: content/runs/detect/ (stored 0%)\n",
            "updating: content/runs/detect/train/ (stored 0%)\n",
            "updating: content/runs/detect/train/args.yaml (deflated 51%)\n",
            "updating: content/runs/detect/train/confusion_matrix.png (deflated 25%)\n",
            "updating: content/runs/detect/train/train_batch0.jpg (deflated 2%)\n",
            "updating: content/runs/detect/train/PR_curve.png (deflated 18%)\n",
            "updating: content/runs/detect/train/train_batch316.jpg (deflated 6%)\n",
            "updating: content/runs/detect/train/R_curve.png (deflated 11%)\n",
            "updating: content/runs/detect/train/labels_correlogram.jpg (deflated 48%)\n",
            "updating: content/runs/detect/train/val_batch1_labels.jpg (deflated 9%)\n",
            "updating: content/runs/detect/train/val_batch0_pred.jpg (deflated 4%)\n",
            "updating: content/runs/detect/train/results.csv (deflated 83%)\n",
            "updating: content/runs/detect/train/results.png (deflated 6%)\n",
            "updating: content/runs/detect/train/labels.jpg (deflated 35%)\n",
            "updating: content/runs/detect/train/confusion_matrix_normalized.png (deflated 24%)\n",
            "updating: content/runs/detect/train/train_batch2.jpg (deflated 2%)\n",
            "updating: content/runs/detect/train/train_batch1.jpg (deflated 2%)\n",
            "updating: content/runs/detect/train/train_batch315.jpg (deflated 4%)\n",
            "updating: content/runs/detect/train/F1_curve.png (deflated 8%)\n",
            "updating: content/runs/detect/train/train_batch317.jpg (deflated 6%)\n",
            "updating: content/runs/detect/train/P_curve.png (deflated 10%)\n",
            "updating: content/runs/detect/train/events.out.tfevents.1690221003.b92b84eaa5ce.1186.0 (deflated 71%)\n",
            "updating: content/runs/detect/train/val_batch1_pred.jpg (deflated 8%)\n",
            "updating: content/runs/detect/train/val_batch0_labels.jpg (deflated 4%)\n",
            "updating: content/runs/detect/train/weights/ (stored 0%)\n",
            "updating: content/runs/detect/train/weights/last.pt (deflated 9%)\n",
            "updating: content/runs/detect/train/weights/best.pt (deflated 9%)\n",
            "  adding: content/runs/detect/train2/ (stored 0%)\n",
            "  adding: content/runs/detect/train2/args.yaml (deflated 51%)\n",
            "  adding: content/runs/detect/train2/events.out.tfevents.1690229516.b92b84eaa5ce.36130.0 (deflated 71%)\n",
            "  adding: content/runs/detect/train2/confusion_matrix.png (deflated 25%)\n",
            "  adding: content/runs/detect/train2/train_batch0.jpg (deflated 2%)\n",
            "  adding: content/runs/detect/train2/PR_curve.png (deflated 19%)\n",
            "  adding: content/runs/detect/train2/R_curve.png (deflated 10%)\n",
            "  adding: content/runs/detect/train2/labels_correlogram.jpg (deflated 48%)\n",
            "  adding: content/runs/detect/train2/train_batch841.jpg (deflated 7%)\n",
            "  adding: content/runs/detect/train2/val_batch1_labels.jpg (deflated 9%)\n",
            "  adding: content/runs/detect/train2/val_batch0_pred.jpg (deflated 4%)\n",
            "  adding: content/runs/detect/train2/results.csv (deflated 84%)\n",
            "  adding: content/runs/detect/train2/results.png (deflated 7%)\n",
            "  adding: content/runs/detect/train2/labels.jpg (deflated 35%)\n",
            "  adding: content/runs/detect/train2/confusion_matrix_normalized.png (deflated 24%)\n",
            "  adding: content/runs/detect/train2/train_batch842.jpg (deflated 5%)\n",
            "  adding: content/runs/detect/train2/train_batch840.jpg (deflated 5%)\n",
            "  adding: content/runs/detect/train2/train_batch2.jpg (deflated 2%)\n",
            "  adding: content/runs/detect/train2/train_batch1.jpg (deflated 2%)\n",
            "  adding: content/runs/detect/train2/F1_curve.png (deflated 8%)\n",
            "  adding: content/runs/detect/train2/P_curve.png (deflated 10%)\n",
            "  adding: content/runs/detect/train2/val_batch1_pred.jpg (deflated 9%)\n",
            "  adding: content/runs/detect/train2/val_batch0_labels.jpg (deflated 4%)\n",
            "  adding: content/runs/detect/train2/weights/ (stored 0%)\n",
            "  adding: content/runs/detect/train2/weights/last.pt (deflated 9%)\n",
            "  adding: content/runs/detect/train2/weights/best.pt (deflated 9%)\n"
          ]
        }
      ]
    },
    {
      "cell_type": "code",
      "source": [],
      "metadata": {
        "id": "mOcsxzO2esRk"
      },
      "execution_count": null,
      "outputs": []
    }
  ]
}